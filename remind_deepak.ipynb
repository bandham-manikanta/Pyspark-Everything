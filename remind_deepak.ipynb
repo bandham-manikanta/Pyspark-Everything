{
 "cells": [
  {
   "cell_type": "code",
   "execution_count": 1,
   "id": "bf16faec-aa20-4947-891a-532fdb01612c",
   "metadata": {},
   "outputs": [],
   "source": [
    "! pip install pywhatkit --quiet"
   ]
  },
  {
   "cell_type": "code",
   "execution_count": 2,
   "id": "53dd31a9-0513-44be-8b17-ea9661c17afc",
   "metadata": {},
   "outputs": [
    {
     "name": "stdout",
     "output_type": "stream",
     "text": [
      "Messages sent successfully\n"
     ]
    }
   ],
   "source": [
    "import pywhatkit as kit\n",
    "import time\n",
    "\n",
    "# Replace 'xxxx' with the actual phone number including country code\n",
    "phone_number = \"+919493564675\"\n",
    "\n",
    "# Replace 'Your message here' with your actual message\n",
    "message = \"Your message here\"\n",
    "\n",
    "# Number of times you want to send the message\n",
    "number_of_times = 5  # Change this to your desired count\n",
    "\n",
    "for _ in range(number_of_times):\n",
    "    # Send the message instantly\n",
    "    kit.sendwhatmsg_instantly(phone_number, message)\n",
    "    \n",
    "    # Wait for 2 seconds before sending the next message\n",
    "    time.sleep(60)\n",
    "\n",
    "print(\"Messages sent successfully\")\n"
   ]
  }
 ],
 "metadata": {
  "kernelspec": {
   "display_name": "Python 3 (ipykernel)",
   "language": "python",
   "name": "python3"
  },
  "language_info": {
   "codemirror_mode": {
    "name": "ipython",
    "version": 3
   },
   "file_extension": ".py",
   "mimetype": "text/x-python",
   "name": "python",
   "nbconvert_exporter": "python",
   "pygments_lexer": "ipython3",
   "version": "3.12.3"
  }
 },
 "nbformat": 4,
 "nbformat_minor": 5
}
