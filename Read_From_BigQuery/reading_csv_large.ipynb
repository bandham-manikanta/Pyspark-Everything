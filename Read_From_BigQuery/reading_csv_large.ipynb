{
 "cells": [
  {
   "cell_type": "code",
   "execution_count": 5,
   "metadata": {},
   "outputs": [
    {
     "data": {
      "text/plain": [
       "156961146"
      ]
     },
     "execution_count": 5,
     "metadata": {},
     "output_type": "execute_result"
    }
   ],
   "source": [
    "from pyspark.sql import SparkSession\n",
    "\n",
    "# Create a Spark session and configure the BigQuery connector\n",
    "spark = SparkSession.builder.master('local[*]') \\\n",
    "    .appName(\"ReadingParquetFilesApp\") \\\n",
    "    .getOrCreate()\n",
    "\n",
    "spark.sparkContext.setLogLevel(\"ERROR\")\n",
    "\n",
    "# Load data from the Shakespeare dataset\n",
    "df = spark.read.csv('noaa_gsod.csv', header=True, inferSchema=True)\n",
    "\n",
    "df.count()\n"
   ]
  },
  {
   "cell_type": "code",
   "execution_count": 6,
   "metadata": {},
   "outputs": [
    {
     "name": "stdout",
     "output_type": "stream",
     "text": [
      "+------+-----+----+---+---+----+----------+------+----------+------+---------+------+---------+-----+-----------+----+----------+-----+-----+-----+--------+------+--------+----+---------+-----+---+------------+----------------+----+-------+--------------------+\n",
      "|   stn| wban|year| mo| da|temp|count_temp|  dewp|count_dewp|   slp|count_slp|   stp|count_stp|visib|count_visib|wdsp|count_wdsp|mxpsd| gust|  max|flag_max|   min|flag_min|prcp|flag_prcp| sndp|fog|rain_drizzle|snow_ice_pellets|hail|thunder|tornado_funnel_cloud|\n",
      "+------+-----+----+---+---+----+----------+------+----------+------+---------+------+---------+-----+-----------+----+----------+-----+-----+-----+--------+------+--------+----+---------+-----+---+------------+----------------+----+-------+--------------------+\n",
      "|942960|99999|2012| 11|  7|76.4|        10|9999.9|         0|1010.8|       10|1009.8|       10|999.9|          0| 4.3|        10| 12.0|999.9|103.5|       *|9999.9|    null| 0.0|        I|999.9|  0|           0|               0|   0|      0|                   0|\n",
      "|956340|99999|2012| 10| 16|66.7|        15|9999.9|         0|1016.2|       15| 975.8|       15|999.9|          0| 5.3|        15|  9.9|999.9| 80.8|    null|  49.1|    null| 0.0|        G|999.9|  0|           0|               0|   0|      0|                   0|\n",
      "|125950|99999|2012| 11| 16|29.0|        17|9999.9|         0|1027.3|       17| 999.0|       17|999.9|          0| 3.1|        17|  5.8|999.9| 30.9|    null|  22.8|    null|0.04|        E|999.9|  0|           0|               0|   0|      0|                   0|\n",
      "|954850|99999|2012|  8| 29|66.3|        16|9999.9|         0|1014.6|       15| 993.6|       15|999.9|          0|12.8|        16| 23.9|999.9| 81.1|    null|  45.7|    null| 0.0|        G|999.9|  0|           0|               0|   0|      0|                   0|\n",
      "|125950|99999|2012| 10| 31|35.3|        15|  33.4|         8|1013.7|       15| 986.1|       15|999.9|          0| 6.7|        15|  9.7|999.9| 40.1|    null|  27.0|    null| 0.0|        G|999.9|  0|           0|               0|   0|      0|                   0|\n",
      "+------+-----+----+---+---+----+----------+------+----------+------+---------+------+---------+-----+-----------+----+----------+-----+-----+-----+--------+------+--------+----+---------+-----+---+------------+----------------+----+-------+--------------------+\n",
      "only showing top 5 rows\n",
      "\n"
     ]
    }
   ],
   "source": [
    "df.show(5)\n"
   ]
  },
  {
   "cell_type": "code",
   "execution_count": 34,
   "metadata": {},
   "outputs": [
    {
     "name": "stdout",
     "output_type": "stream",
     "text": [
      "+------+-----+----+---+---+----+----------+------+----------+------+---------+------+---------+-----+-----------+----+----------+-----+-----+-----+--------+------+--------+----+---------+-----+---+------------+----------------+----+-------+--------------------+----------+\n",
      "|   stn| wban|year| mo| da|temp|count_temp|  dewp|count_dewp|   slp|count_slp|   stp|count_stp|visib|count_visib|wdsp|count_wdsp|mxpsd| gust|  max|flag_max|   min|flag_min|prcp|flag_prcp| sndp|fog|rain_drizzle|snow_ice_pellets|hail|thunder|tornado_funnel_cloud|   Year is|\n",
      "+------+-----+----+---+---+----+----------+------+----------+------+---------+------+---------+-----+-----------+----+----------+-----+-----+-----+--------+------+--------+----+---------+-----+---+------------+----------------+----+-------+--------------------+----------+\n",
      "|942960|99999|2012| 11|  7|76.4|        10|9999.9|         0|1010.8|       10|1009.8|       10|999.9|          0| 4.3|        10| 12.0|999.9|103.5|       *|9999.9|    null| 0.0|        I|999.9|  0|           0|               0|   0|      0|                   0|Year: 2012|\n",
      "|956340|99999|2012| 10| 16|66.7|        15|9999.9|         0|1016.2|       15| 975.8|       15|999.9|          0| 5.3|        15|  9.9|999.9| 80.8|    null|  49.1|    null| 0.0|        G|999.9|  0|           0|               0|   0|      0|                   0|Year: 2012|\n",
      "|125950|99999|2012| 11| 16|29.0|        17|9999.9|         0|1027.3|       17| 999.0|       17|999.9|          0| 3.1|        17|  5.8|999.9| 30.9|    null|  22.8|    null|0.04|        E|999.9|  0|           0|               0|   0|      0|                   0|Year: 2012|\n",
      "|954850|99999|2012|  8| 29|66.3|        16|9999.9|         0|1014.6|       15| 993.6|       15|999.9|          0|12.8|        16| 23.9|999.9| 81.1|    null|  45.7|    null| 0.0|        G|999.9|  0|           0|               0|   0|      0|                   0|Year: 2012|\n",
      "|125950|99999|2012| 10| 31|35.3|        15|  33.4|         8|1013.7|       15| 986.1|       15|999.9|          0| 6.7|        15|  9.7|999.9| 40.1|    null|  27.0|    null| 0.0|        G|999.9|  0|           0|               0|   0|      0|                   0|Year: 2012|\n",
      "+------+-----+----+---+---+----+----------+------+----------+------+---------+------+---------+-----+-----------+----+----------+-----+-----+-----+--------+------+--------+----+---------+-----+---+------------+----------------+----+-------+--------------------+----------+\n",
      "only showing top 5 rows\n",
      "\n"
     ]
    }
   ],
   "source": [
    "from pyspark.sql.functions import lit, concat\n",
    "\n",
    "df = df.withColumn('Year is', concat(lit('Year: '), df['year'].cast('string')))\n",
    "df.show(5)\n"
   ]
  },
  {
   "cell_type": "code",
   "execution_count": 35,
   "metadata": {},
   "outputs": [],
   "source": [
    "df.write.mode('overwrite').parquet('noaa_gsod.parquet')\n"
   ]
  },
  {
   "cell_type": "code",
   "execution_count": 36,
   "metadata": {},
   "outputs": [],
   "source": [
    "spark.stop()\n"
   ]
  }
 ],
 "metadata": {
  "kernelspec": {
   "display_name": "pyspark_venv",
   "language": "python",
   "name": "python3"
  },
  "language_info": {
   "codemirror_mode": {
    "name": "ipython",
    "version": 3
   },
   "file_extension": ".py",
   "mimetype": "text/x-python",
   "name": "python",
   "nbconvert_exporter": "python",
   "pygments_lexer": "ipython3",
   "version": "3.9.19"
  }
 },
 "nbformat": 4,
 "nbformat_minor": 2
}
